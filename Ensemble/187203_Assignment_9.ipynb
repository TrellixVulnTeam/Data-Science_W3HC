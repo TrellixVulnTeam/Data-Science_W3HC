{
  "nbformat": 4,
  "nbformat_minor": 0,
  "metadata": {
    "colab": {
      "name": "187203_Assignment_9.ipynb",
      "provenance": []
    },
    "kernelspec": {
      "name": "python3",
      "display_name": "Python 3"
    },
    "language_info": {
      "name": "python"
    }
  },
  "cells": [
    {
      "cell_type": "markdown",
      "metadata": {
        "id": "rxtaZkY7P9MZ"
      },
      "source": [
        "#Q1. Apply the random forest classifier as a bagging approach to the given dataset. UC-Irvine Machine Learning Repository http://archive.ics.uci.edu/ml/) choose any dataset. "
      ]
    },
    {
      "cell_type": "code",
      "metadata": {
        "id": "o_unC3NZPy-M",
        "colab": {
          "base_uri": "https://localhost:8080/",
          "height": 224
        },
        "outputId": "31a079a0-0b8a-450d-abd1-9b50ac2e107e"
      },
      "source": [
        "from sklearn import datasets\n",
        "import pandas as pd\n",
        "dataset = pd.read_csv('winequality-red.csv',sep=';')\n",
        "dataset.head()"
      ],
      "execution_count": 16,
      "outputs": [
        {
          "output_type": "execute_result",
          "data": {
            "text/html": [
              "<div>\n",
              "<style scoped>\n",
              "    .dataframe tbody tr th:only-of-type {\n",
              "        vertical-align: middle;\n",
              "    }\n",
              "\n",
              "    .dataframe tbody tr th {\n",
              "        vertical-align: top;\n",
              "    }\n",
              "\n",
              "    .dataframe thead th {\n",
              "        text-align: right;\n",
              "    }\n",
              "</style>\n",
              "<table border=\"1\" class=\"dataframe\">\n",
              "  <thead>\n",
              "    <tr style=\"text-align: right;\">\n",
              "      <th></th>\n",
              "      <th>fixed acidity</th>\n",
              "      <th>volatile acidity</th>\n",
              "      <th>citric acid</th>\n",
              "      <th>residual sugar</th>\n",
              "      <th>chlorides</th>\n",
              "      <th>free sulfur dioxide</th>\n",
              "      <th>total sulfur dioxide</th>\n",
              "      <th>density</th>\n",
              "      <th>pH</th>\n",
              "      <th>sulphates</th>\n",
              "      <th>alcohol</th>\n",
              "      <th>quality</th>\n",
              "    </tr>\n",
              "  </thead>\n",
              "  <tbody>\n",
              "    <tr>\n",
              "      <th>0</th>\n",
              "      <td>7.4</td>\n",
              "      <td>0.70</td>\n",
              "      <td>0.00</td>\n",
              "      <td>1.9</td>\n",
              "      <td>0.076</td>\n",
              "      <td>11.0</td>\n",
              "      <td>34.0</td>\n",
              "      <td>0.9978</td>\n",
              "      <td>3.51</td>\n",
              "      <td>0.56</td>\n",
              "      <td>9.4</td>\n",
              "      <td>5</td>\n",
              "    </tr>\n",
              "    <tr>\n",
              "      <th>1</th>\n",
              "      <td>7.8</td>\n",
              "      <td>0.88</td>\n",
              "      <td>0.00</td>\n",
              "      <td>2.6</td>\n",
              "      <td>0.098</td>\n",
              "      <td>25.0</td>\n",
              "      <td>67.0</td>\n",
              "      <td>0.9968</td>\n",
              "      <td>3.20</td>\n",
              "      <td>0.68</td>\n",
              "      <td>9.8</td>\n",
              "      <td>5</td>\n",
              "    </tr>\n",
              "    <tr>\n",
              "      <th>2</th>\n",
              "      <td>7.8</td>\n",
              "      <td>0.76</td>\n",
              "      <td>0.04</td>\n",
              "      <td>2.3</td>\n",
              "      <td>0.092</td>\n",
              "      <td>15.0</td>\n",
              "      <td>54.0</td>\n",
              "      <td>0.9970</td>\n",
              "      <td>3.26</td>\n",
              "      <td>0.65</td>\n",
              "      <td>9.8</td>\n",
              "      <td>5</td>\n",
              "    </tr>\n",
              "    <tr>\n",
              "      <th>3</th>\n",
              "      <td>11.2</td>\n",
              "      <td>0.28</td>\n",
              "      <td>0.56</td>\n",
              "      <td>1.9</td>\n",
              "      <td>0.075</td>\n",
              "      <td>17.0</td>\n",
              "      <td>60.0</td>\n",
              "      <td>0.9980</td>\n",
              "      <td>3.16</td>\n",
              "      <td>0.58</td>\n",
              "      <td>9.8</td>\n",
              "      <td>6</td>\n",
              "    </tr>\n",
              "    <tr>\n",
              "      <th>4</th>\n",
              "      <td>7.4</td>\n",
              "      <td>0.70</td>\n",
              "      <td>0.00</td>\n",
              "      <td>1.9</td>\n",
              "      <td>0.076</td>\n",
              "      <td>11.0</td>\n",
              "      <td>34.0</td>\n",
              "      <td>0.9978</td>\n",
              "      <td>3.51</td>\n",
              "      <td>0.56</td>\n",
              "      <td>9.4</td>\n",
              "      <td>5</td>\n",
              "    </tr>\n",
              "  </tbody>\n",
              "</table>\n",
              "</div>"
            ],
            "text/plain": [
              "   fixed acidity  volatile acidity  citric acid  ...  sulphates  alcohol  quality\n",
              "0            7.4              0.70         0.00  ...       0.56      9.4        5\n",
              "1            7.8              0.88         0.00  ...       0.68      9.8        5\n",
              "2            7.8              0.76         0.04  ...       0.65      9.8        5\n",
              "3           11.2              0.28         0.56  ...       0.58      9.8        6\n",
              "4            7.4              0.70         0.00  ...       0.56      9.4        5\n",
              "\n",
              "[5 rows x 12 columns]"
            ]
          },
          "metadata": {
            "tags": []
          },
          "execution_count": 16
        }
      ]
    },
    {
      "cell_type": "code",
      "metadata": {
        "colab": {
          "base_uri": "https://localhost:8080/"
        },
        "id": "keuV04EjazJI",
        "outputId": "cc06f04e-5ffd-41c8-a24a-2eb17514b383"
      },
      "source": [
        "X = dataset.drop(columns = ['quality'])\n",
        "Y = dataset['quality']\n",
        "X, Y"
      ],
      "execution_count": 17,
      "outputs": [
        {
          "output_type": "execute_result",
          "data": {
            "text/plain": [
              "(      fixed acidity  volatile acidity  citric acid  ...    pH  sulphates  alcohol\n",
              " 0               7.4             0.700         0.00  ...  3.51       0.56      9.4\n",
              " 1               7.8             0.880         0.00  ...  3.20       0.68      9.8\n",
              " 2               7.8             0.760         0.04  ...  3.26       0.65      9.8\n",
              " 3              11.2             0.280         0.56  ...  3.16       0.58      9.8\n",
              " 4               7.4             0.700         0.00  ...  3.51       0.56      9.4\n",
              " ...             ...               ...          ...  ...   ...        ...      ...\n",
              " 1594            6.2             0.600         0.08  ...  3.45       0.58     10.5\n",
              " 1595            5.9             0.550         0.10  ...  3.52       0.76     11.2\n",
              " 1596            6.3             0.510         0.13  ...  3.42       0.75     11.0\n",
              " 1597            5.9             0.645         0.12  ...  3.57       0.71     10.2\n",
              " 1598            6.0             0.310         0.47  ...  3.39       0.66     11.0\n",
              " \n",
              " [1599 rows x 11 columns], 0       5\n",
              " 1       5\n",
              " 2       5\n",
              " 3       6\n",
              " 4       5\n",
              "        ..\n",
              " 1594    5\n",
              " 1595    6\n",
              " 1596    6\n",
              " 1597    5\n",
              " 1598    6\n",
              " Name: quality, Length: 1599, dtype: int64)"
            ]
          },
          "metadata": {
            "tags": []
          },
          "execution_count": 17
        }
      ]
    },
    {
      "cell_type": "code",
      "metadata": {
        "colab": {
          "base_uri": "https://localhost:8080/"
        },
        "id": "1Cl0Z6mZg1zp",
        "outputId": "c200cf09-6fc0-4806-8206-b8d58fe51e77"
      },
      "source": [
        "from sklearn.model_selection import train_test_split\n",
        "\n",
        "X_train, X_test, Y_train, Y_test = train_test_split(X, Y, test_size=0.2)\n",
        "X_train, X_test, Y_train, Y_test"
      ],
      "execution_count": 18,
      "outputs": [
        {
          "output_type": "execute_result",
          "data": {
            "text/plain": [
              "(      fixed acidity  volatile acidity  citric acid  ...    pH  sulphates  alcohol\n",
              " 1199            7.9             0.580         0.23  ...  3.21       0.58      9.5\n",
              " 1314            7.0             0.360         0.21  ...  3.40       0.53     10.1\n",
              " 1403            7.2             0.330         0.33  ...  3.23       1.10     10.0\n",
              " 1200            7.7             0.570         0.21  ...  3.16       0.54      9.8\n",
              " 692             8.6             0.490         0.51  ...  3.03       1.17      9.0\n",
              " ...             ...               ...          ...  ...   ...        ...      ...\n",
              " 25              6.3             0.390         0.16  ...  3.34       0.56      9.3\n",
              " 629             7.6             0.685         0.23  ...  3.21       0.61      9.3\n",
              " 1254            7.8             0.700         0.06  ...  3.40       0.69     10.9\n",
              " 779             7.1             0.520         0.03  ...  3.50       0.60      9.8\n",
              " 1379            7.5             0.570         0.02  ...  3.36       0.62     10.8\n",
              " \n",
              " [1279 rows x 11 columns],\n",
              "       fixed acidity  volatile acidity  citric acid  ...    pH  sulphates  alcohol\n",
              " 1182           10.2              0.40         0.40  ...  3.38       0.86     10.5\n",
              " 1020           11.3              0.36         0.66  ...  3.20       0.53     11.9\n",
              " 54              7.6              0.51         0.15  ...  3.17       0.63     10.2\n",
              " 566             8.7              0.70         0.24  ...  3.32       0.60      9.0\n",
              " 184             6.7              0.62         0.21  ...  3.52       0.58      9.3\n",
              " ...             ...               ...          ...  ...   ...        ...      ...\n",
              " 1188            6.7              0.64         0.23  ...  3.36       0.70     10.9\n",
              " 799             9.4              0.50         0.34  ...  3.29       0.52     10.7\n",
              " 1339            7.5              0.51         0.02  ...  3.36       0.54     10.5\n",
              " 158             7.1              0.68         0.00  ...  3.48       0.50      9.3\n",
              " 1306            9.7              0.69         0.32  ...  3.29       0.62     10.1\n",
              " \n",
              " [320 rows x 11 columns],\n",
              " 1199    6\n",
              " 1314    6\n",
              " 1403    8\n",
              " 1200    6\n",
              " 692     5\n",
              "        ..\n",
              " 25      5\n",
              " 629     5\n",
              " 1254    5\n",
              " 779     5\n",
              " 1379    6\n",
              " Name: quality, Length: 1279, dtype: int64,\n",
              " 1182    6\n",
              " 1020    6\n",
              " 54      6\n",
              " 566     6\n",
              " 184     6\n",
              "        ..\n",
              " 1188    5\n",
              " 799     6\n",
              " 1339    6\n",
              " 158     5\n",
              " 1306    5\n",
              " Name: quality, Length: 320, dtype: int64)"
            ]
          },
          "metadata": {
            "tags": []
          },
          "execution_count": 18
        }
      ]
    },
    {
      "cell_type": "code",
      "metadata": {
        "id": "EPcEDcy7hD7J"
      },
      "source": [
        "from sklearn.ensemble import RandomForestClassifier\n",
        "\n",
        "clf=RandomForestClassifier(n_estimators=100)\n",
        "\n",
        "clf.fit(X_train,Y_train)\n",
        "\n",
        "Y_pred=clf.predict(X_test)"
      ],
      "execution_count": 22,
      "outputs": []
    },
    {
      "cell_type": "code",
      "metadata": {
        "colab": {
          "base_uri": "https://localhost:8080/",
          "height": 716
        },
        "id": "ORIeilXqhU5l",
        "outputId": "7282d841-244a-4ab5-cd9d-1ac4a74ba1cc"
      },
      "source": [
        "from sklearn import metrics\n",
        "import matplotlib.pyplot as plt\n",
        "from sklearn.metrics import plot_confusion_matrix, mean_squared_error,mean_absolute_error, make_scorer,classification_report,confusion_matrix,accuracy_score,roc_auc_score,roc_curve\n",
        "print(\"Testing accuracy Score : \",metrics.accuracy_score(Y_test,Y_pred))\n",
        "print(classification_report(Y_pred,Y_test))\n",
        "\n",
        "# Plot confusion matrix\n",
        "disp = plot_confusion_matrix(clf, X_test, Y_test,cmap=plt.cm.Blues)\n",
        "disp.ax_.set_title(\"Confusion Matrix\")\n",
        "disp.figure_.tight_layout()\n",
        "\n",
        "print(\"Confusion Matrix\")\n",
        "print(disp.confusion_matrix)"
      ],
      "execution_count": 31,
      "outputs": [
        {
          "output_type": "stream",
          "text": [
            "Testing accuracy Score :  0.725\n",
            "              precision    recall  f1-score   support\n",
            "\n",
            "           3       0.00      0.00      0.00         0\n",
            "           4       0.00      0.00      0.00         0\n",
            "           5       0.80      0.74      0.77       144\n",
            "           6       0.76      0.71      0.73       144\n",
            "           7       0.57      0.72      0.64        32\n",
            "           8       0.00      0.00      0.00         0\n",
            "\n",
            "    accuracy                           0.73       320\n",
            "   macro avg       0.36      0.36      0.36       320\n",
            "weighted avg       0.76      0.72      0.74       320\n",
            "\n",
            "Confusion Matrix\n",
            "[[  0   0   2   0   0   0]\n",
            " [  0   0   7   2   0   0]\n",
            " [  0   0 107  24   3   0]\n",
            " [  0   0  27 102   5   0]\n",
            " [  0   0   1  16  23   0]\n",
            " [  0   0   0   0   1   0]]\n"
          ],
          "name": "stdout"
        },
        {
          "output_type": "stream",
          "text": [
            "/usr/local/lib/python3.7/dist-packages/sklearn/metrics/_classification.py:1272: UndefinedMetricWarning: Recall and F-score are ill-defined and being set to 0.0 in labels with no true samples. Use `zero_division` parameter to control this behavior.\n",
            "  _warn_prf(average, modifier, msg_start, len(result))\n"
          ],
          "name": "stderr"
        },
        {
          "output_type": "display_data",
          "data": {
            "image/png": "[encoded data removed]",
            "text/plain": [
              "<Figure size 432x288 with 2 Axes>"
            ]
          },
          "metadata": {
            "tags": [],
            "needs_background": "light"
          }
        }
      ]
    },
    {
      "cell_type": "markdown",
      "metadata": {
        "id": "Vhd-RcJejOVR"
      },
      "source": [
        "#Q2. Perform ADAboost algorithm for classification on any above dataset."
      ]
    },
    {
      "cell_type": "code",
      "metadata": {
        "id": "07nTAcXEjSvs"
      },
      "source": [
        "from sklearn.ensemble import AdaBoostClassifier\n",
        "abc = AdaBoostClassifier(n_estimators=50,learning_rate=1)\n",
        "model = abc.fit(X_train, Y_train)\n",
        "\n",
        "Y_pred = model.predict(X_test)"
      ],
      "execution_count": 35,
      "outputs": []
    },
    {
      "cell_type": "code",
      "metadata": {
        "colab": {
          "base_uri": "https://localhost:8080/",
          "height": 716
        },
        "id": "j4JheyPZkUFL",
        "outputId": "cd9ace01-a466-4942-d715-f2623e3ea9de"
      },
      "source": [
        "print(\"Testing accuracy Score : \",metrics.accuracy_score(Y_test,Y_pred))\n",
        "print(classification_report(Y_pred,Y_test))\n",
        "\n",
        "# Plot confusion matrix\n",
        "disp = plot_confusion_matrix(abc, X_test, Y_test,cmap=plt.cm.Blues)\n",
        "disp.ax_.set_title(\"Confusion Matrix\")\n",
        "disp.figure_.tight_layout()\n",
        "\n",
        "print(\"Confusion Matrix\")\n",
        "print(disp.confusion_matrix)"
      ],
      "execution_count": 36,
      "outputs": [
        {
          "output_type": "stream",
          "text": [
            "Testing accuracy Score :  0.51875\n",
            "              precision    recall  f1-score   support\n",
            "\n",
            "           3       0.00      0.00      0.00         4\n",
            "           4       0.00      0.00      0.00         0\n",
            "           5       0.69      0.55      0.61       169\n",
            "           6       0.54      0.50      0.52       147\n",
            "           7       0.00      0.00      0.00         0\n",
            "           8       0.00      0.00      0.00         0\n",
            "\n",
            "    accuracy                           0.52       320\n",
            "   macro avg       0.21      0.17      0.19       320\n",
            "weighted avg       0.62      0.52      0.56       320\n",
            "\n",
            "Confusion Matrix\n",
            "[[ 0  0  1  1  0  0]\n",
            " [ 0  0  9  0  0  0]\n",
            " [ 2  0 93 39  0  0]\n",
            " [ 2  0 59 73  0  0]\n",
            " [ 0  0  7 33  0  0]\n",
            " [ 0  0  0  1  0  0]]\n"
          ],
          "name": "stdout"
        },
        {
          "output_type": "stream",
          "text": [
            "/usr/local/lib/python3.7/dist-packages/sklearn/metrics/_classification.py:1272: UndefinedMetricWarning: Recall and F-score are ill-defined and being set to 0.0 in labels with no true samples. Use `zero_division` parameter to control this behavior.\n",
            "  _warn_prf(average, modifier, msg_start, len(result))\n"
          ],
          "name": "stderr"
        },
        {
          "output_type": "display_data",
          "data": {
            "image/png": "[encoded data removed]",
            "text/plain": [
              "<Figure size 432x288 with 2 Axes>"
            ]
          },
          "metadata": {
            "tags": [],
            "needs_background": "light"
          }
        }
      ]
    }
  ]
}