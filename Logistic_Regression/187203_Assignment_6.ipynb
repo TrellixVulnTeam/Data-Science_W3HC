{
  "nbformat": 4,
  "nbformat_minor": 0,
  "metadata": {
    "colab": {
      "name": "187203_Assignment_6.ipynb",
      "provenance": [],
      "collapsed_sections": []
    },
    "kernelspec": {
      "name": "python3",
      "display_name": "Python 3"
    }
  },
  "cells": [
    {
      "cell_type": "markdown",
      "metadata": {
        "id": "92vK5KWf1G2d"
      },
      "source": [
        "#Q1. \tInvestigate the use of Logistic Regression on a subset of the Kaggle Credit Card Fraud Data set (www.kaggle.com/dalpozz/creditcardfraud). Note that in this data set, the number of fraud data are much smaller than the normal data.\n",
        "\n",
        "#Your first task would be to construct subset data set(s) from the Kaggle data set. Construct three subset data sets of 100K, 20K, and 10K, with normal and fraud data included (make sure you maximize the number of fraud data elements). Out of this data set construct a training data set and a testing data set (using 80% of the data for the former, and 20% for the latter) to build and test the logistic regression model."
      ]
    },
    {
      "cell_type": "code",
      "metadata": {
        "colab": {
          "base_uri": "https://localhost:8080/",
          "height": 226
        },
        "id": "uYNykVya1EAv",
        "outputId": "5b116b4a-69a9-4941-8a37-04d94be0b2c9"
      },
      "source": [
        "import pandas as pd\n",
        "import numpy as np\n",
        "import matplotlib.pyplot as plt\n",
        "from sklearn.preprocessing import MinMaxScaler\n",
        "from sklearn.linear_model import LogisticRegression\n",
        "from sklearn.metrics import roc_auc_score,accuracy_score\n",
        "from sklearn.utils import shuffle\n",
        "\n",
        "df=pd.read_csv('creditcard.csv')\n",
        "df.head()"
      ],
      "execution_count": 1,
      "outputs": [
        {
          "output_type": "execute_result",
          "data": {
            "text/html": [
              "<div>\n",
              "<style scoped>\n",
              "    .dataframe tbody tr th:only-of-type {\n",
              "        vertical-align: middle;\n",
              "    }\n",
              "\n",
              "    .dataframe tbody tr th {\n",
              "        vertical-align: top;\n",
              "    }\n",
              "\n",
              "    .dataframe thead th {\n",
              "        text-align: right;\n",
              "    }\n",
              "</style>\n",
              "<table border=\"1\" class=\"dataframe\">\n",
              "  <thead>\n",
              "    <tr style=\"text-align: right;\">\n",
              "      <th></th>\n",
              "      <th>Time</th>\n",
              "      <th>V1</th>\n",
              "      <th>V2</th>\n",
              "      <th>V3</th>\n",
              "      <th>V4</th>\n",
              "      <th>V5</th>\n",
              "      <th>V6</th>\n",
              "      <th>V7</th>\n",
              "      <th>V8</th>\n",
              "      <th>V9</th>\n",
              "      <th>V10</th>\n",
              "      <th>V11</th>\n",
              "      <th>V12</th>\n",
              "      <th>V13</th>\n",
              "      <th>V14</th>\n",
              "      <th>V15</th>\n",
              "      <th>V16</th>\n",
              "      <th>V17</th>\n",
              "      <th>V18</th>\n",
              "      <th>V19</th>\n",
              "      <th>V20</th>\n",
              "      <th>V21</th>\n",
              "      <th>V22</th>\n",
              "      <th>V23</th>\n",
              "      <th>V24</th>\n",
              "      <th>V25</th>\n",
              "      <th>V26</th>\n",
              "      <th>V27</th>\n",
              "      <th>V28</th>\n",
              "      <th>Amount</th>\n",
              "      <th>Class</th>\n",
              "    </tr>\n",
              "  </thead>\n",
              "  <tbody>\n",
              "    <tr>\n",
              "      <th>0</th>\n",
              "      <td>0</td>\n",
              "      <td>-1.359807</td>\n",
              "      <td>-0.072781</td>\n",
              "      <td>2.536347</td>\n",
              "      <td>1.378155</td>\n",
              "      <td>-0.338321</td>\n",
              "      <td>0.462388</td>\n",
              "      <td>0.239599</td>\n",
              "      <td>0.098698</td>\n",
              "      <td>0.363787</td>\n",
              "      <td>0.090794</td>\n",
              "      <td>-0.551600</td>\n",
              "      <td>-0.617801</td>\n",
              "      <td>-0.991390</td>\n",
              "      <td>-0.311169</td>\n",
              "      <td>1.468177</td>\n",
              "      <td>-0.470401</td>\n",
              "      <td>0.207971</td>\n",
              "      <td>0.025791</td>\n",
              "      <td>0.403993</td>\n",
              "      <td>0.251412</td>\n",
              "      <td>-0.018307</td>\n",
              "      <td>0.277838</td>\n",
              "      <td>-0.110474</td>\n",
              "      <td>0.066928</td>\n",
              "      <td>0.128539</td>\n",
              "      <td>-0.189115</td>\n",
              "      <td>0.133558</td>\n",
              "      <td>-0.021053</td>\n",
              "      <td>149.62</td>\n",
              "      <td>0.0</td>\n",
              "    </tr>\n",
              "    <tr>\n",
              "      <th>1</th>\n",
              "      <td>0</td>\n",
              "      <td>1.191857</td>\n",
              "      <td>0.266151</td>\n",
              "      <td>0.166480</td>\n",
              "      <td>0.448154</td>\n",
              "      <td>0.060018</td>\n",
              "      <td>-0.082361</td>\n",
              "      <td>-0.078803</td>\n",
              "      <td>0.085102</td>\n",
              "      <td>-0.255425</td>\n",
              "      <td>-0.166974</td>\n",
              "      <td>1.612727</td>\n",
              "      <td>1.065235</td>\n",
              "      <td>0.489095</td>\n",
              "      <td>-0.143772</td>\n",
              "      <td>0.635558</td>\n",
              "      <td>0.463917</td>\n",
              "      <td>-0.114805</td>\n",
              "      <td>-0.183361</td>\n",
              "      <td>-0.145783</td>\n",
              "      <td>-0.069083</td>\n",
              "      <td>-0.225775</td>\n",
              "      <td>-0.638672</td>\n",
              "      <td>0.101288</td>\n",
              "      <td>-0.339846</td>\n",
              "      <td>0.167170</td>\n",
              "      <td>0.125895</td>\n",
              "      <td>-0.008983</td>\n",
              "      <td>0.014724</td>\n",
              "      <td>2.69</td>\n",
              "      <td>0.0</td>\n",
              "    </tr>\n",
              "    <tr>\n",
              "      <th>2</th>\n",
              "      <td>1</td>\n",
              "      <td>-1.358354</td>\n",
              "      <td>-1.340163</td>\n",
              "      <td>1.773209</td>\n",
              "      <td>0.379780</td>\n",
              "      <td>-0.503198</td>\n",
              "      <td>1.800499</td>\n",
              "      <td>0.791461</td>\n",
              "      <td>0.247676</td>\n",
              "      <td>-1.514654</td>\n",
              "      <td>0.207643</td>\n",
              "      <td>0.624501</td>\n",
              "      <td>0.066084</td>\n",
              "      <td>0.717293</td>\n",
              "      <td>-0.165946</td>\n",
              "      <td>2.345865</td>\n",
              "      <td>-2.890083</td>\n",
              "      <td>1.109969</td>\n",
              "      <td>-0.121359</td>\n",
              "      <td>-2.261857</td>\n",
              "      <td>0.524980</td>\n",
              "      <td>0.247998</td>\n",
              "      <td>0.771679</td>\n",
              "      <td>0.909412</td>\n",
              "      <td>-0.689281</td>\n",
              "      <td>-0.327642</td>\n",
              "      <td>-0.139097</td>\n",
              "      <td>-0.055353</td>\n",
              "      <td>-0.059752</td>\n",
              "      <td>378.66</td>\n",
              "      <td>0.0</td>\n",
              "    </tr>\n",
              "    <tr>\n",
              "      <th>3</th>\n",
              "      <td>1</td>\n",
              "      <td>-0.966272</td>\n",
              "      <td>-0.185226</td>\n",
              "      <td>1.792993</td>\n",
              "      <td>-0.863291</td>\n",
              "      <td>-0.010309</td>\n",
              "      <td>1.247203</td>\n",
              "      <td>0.237609</td>\n",
              "      <td>0.377436</td>\n",
              "      <td>-1.387024</td>\n",
              "      <td>-0.054952</td>\n",
              "      <td>-0.226487</td>\n",
              "      <td>0.178228</td>\n",
              "      <td>0.507757</td>\n",
              "      <td>-0.287924</td>\n",
              "      <td>-0.631418</td>\n",
              "      <td>-1.059647</td>\n",
              "      <td>-0.684093</td>\n",
              "      <td>1.965775</td>\n",
              "      <td>-1.232622</td>\n",
              "      <td>-0.208038</td>\n",
              "      <td>-0.108300</td>\n",
              "      <td>0.005274</td>\n",
              "      <td>-0.190321</td>\n",
              "      <td>-1.175575</td>\n",
              "      <td>0.647376</td>\n",
              "      <td>-0.221929</td>\n",
              "      <td>0.062723</td>\n",
              "      <td>0.061458</td>\n",
              "      <td>123.50</td>\n",
              "      <td>0.0</td>\n",
              "    </tr>\n",
              "    <tr>\n",
              "      <th>4</th>\n",
              "      <td>2</td>\n",
              "      <td>-1.158233</td>\n",
              "      <td>0.877737</td>\n",
              "      <td>1.548718</td>\n",
              "      <td>0.403034</td>\n",
              "      <td>-0.407193</td>\n",
              "      <td>0.095921</td>\n",
              "      <td>0.592941</td>\n",
              "      <td>-0.270533</td>\n",
              "      <td>0.817739</td>\n",
              "      <td>0.753074</td>\n",
              "      <td>-0.822843</td>\n",
              "      <td>0.538196</td>\n",
              "      <td>1.345852</td>\n",
              "      <td>-1.119670</td>\n",
              "      <td>0.175121</td>\n",
              "      <td>-0.451449</td>\n",
              "      <td>-0.237033</td>\n",
              "      <td>-0.038195</td>\n",
              "      <td>0.803487</td>\n",
              "      <td>0.408542</td>\n",
              "      <td>-0.009431</td>\n",
              "      <td>0.798278</td>\n",
              "      <td>-0.137458</td>\n",
              "      <td>0.141267</td>\n",
              "      <td>-0.206010</td>\n",
              "      <td>0.502292</td>\n",
              "      <td>0.219422</td>\n",
              "      <td>0.215153</td>\n",
              "      <td>69.99</td>\n",
              "      <td>0.0</td>\n",
              "    </tr>\n",
              "  </tbody>\n",
              "</table>\n",
              "</div>"
            ],
            "text/plain": [
              "   Time        V1        V2        V3  ...       V27       V28  Amount  Class\n",
              "0     0 -1.359807 -0.072781  2.536347  ...  0.133558 -0.021053  149.62    0.0\n",
              "1     0  1.191857  0.266151  0.166480  ... -0.008983  0.014724    2.69    0.0\n",
              "2     1 -1.358354 -1.340163  1.773209  ... -0.055353 -0.059752  378.66    0.0\n",
              "3     1 -0.966272 -0.185226  1.792993  ...  0.062723  0.061458  123.50    0.0\n",
              "4     2 -1.158233  0.877737  1.548718  ...  0.219422  0.215153   69.99    0.0\n",
              "\n",
              "[5 rows x 31 columns]"
            ]
          },
          "metadata": {
            "tags": []
          },
          "execution_count": 1
        }
      ]
    },
    {
      "cell_type": "code",
      "metadata": {
        "colab": {
          "base_uri": "https://localhost:8080/",
          "height": 320
        },
        "id": "3U9gLlxSCqYP",
        "outputId": "cd4244ff-1eac-4c16-c522-ffd3ba16d79e"
      },
      "source": [
        "df.describe()"
      ],
      "execution_count": 2,
      "outputs": [
        {
          "output_type": "execute_result",
          "data": {
            "text/html": [
              "<div>\n",
              "<style scoped>\n",
              "    .dataframe tbody tr th:only-of-type {\n",
              "        vertical-align: middle;\n",
              "    }\n",
              "\n",
              "    .dataframe tbody tr th {\n",
              "        vertical-align: top;\n",
              "    }\n",
              "\n",
              "    .dataframe thead th {\n",
              "        text-align: right;\n",
              "    }\n",
              "</style>\n",
              "<table border=\"1\" class=\"dataframe\">\n",
              "  <thead>\n",
              "    <tr style=\"text-align: right;\">\n",
              "      <th></th>\n",
              "      <th>Time</th>\n",
              "      <th>V1</th>\n",
              "      <th>V2</th>\n",
              "      <th>V3</th>\n",
              "      <th>V4</th>\n",
              "      <th>V5</th>\n",
              "      <th>V6</th>\n",
              "      <th>V7</th>\n",
              "      <th>V8</th>\n",
              "      <th>V9</th>\n",
              "      <th>V10</th>\n",
              "      <th>V11</th>\n",
              "      <th>V12</th>\n",
              "      <th>V13</th>\n",
              "      <th>V14</th>\n",
              "      <th>V15</th>\n",
              "      <th>V16</th>\n",
              "      <th>V17</th>\n",
              "      <th>V18</th>\n",
              "      <th>V19</th>\n",
              "      <th>V20</th>\n",
              "      <th>V21</th>\n",
              "      <th>V22</th>\n",
              "      <th>V23</th>\n",
              "      <th>V24</th>\n",
              "      <th>V25</th>\n",
              "      <th>V26</th>\n",
              "      <th>V27</th>\n",
              "      <th>V28</th>\n",
              "      <th>Amount</th>\n",
              "      <th>Class</th>\n",
              "    </tr>\n",
              "  </thead>\n",
              "  <tbody>\n",
              "    <tr>\n",
              "      <th>count</th>\n",
              "      <td>140703.000000</td>\n",
              "      <td>140703.000000</td>\n",
              "      <td>140703.000000</td>\n",
              "      <td>140703.000000</td>\n",
              "      <td>140703.000000</td>\n",
              "      <td>140702.000000</td>\n",
              "      <td>140702.000000</td>\n",
              "      <td>140702.000000</td>\n",
              "      <td>140702.000000</td>\n",
              "      <td>140702.000000</td>\n",
              "      <td>140702.000000</td>\n",
              "      <td>140702.000000</td>\n",
              "      <td>140702.000000</td>\n",
              "      <td>140702.000000</td>\n",
              "      <td>140702.000000</td>\n",
              "      <td>140702.000000</td>\n",
              "      <td>140702.000000</td>\n",
              "      <td>140702.000000</td>\n",
              "      <td>140702.000000</td>\n",
              "      <td>140702.000000</td>\n",
              "      <td>140702.000000</td>\n",
              "      <td>140702.000000</td>\n",
              "      <td>140702.000000</td>\n",
              "      <td>140702.000000</td>\n",
              "      <td>140702.000000</td>\n",
              "      <td>140702.000000</td>\n",
              "      <td>140702.000000</td>\n",
              "      <td>140702.000000</td>\n",
              "      <td>140702.000000</td>\n",
              "      <td>140702.000000</td>\n",
              "      <td>140702.000000</td>\n",
              "    </tr>\n",
              "    <tr>\n",
              "      <th>mean</th>\n",
              "      <td>52017.063240</td>\n",
              "      <td>-0.249590</td>\n",
              "      <td>0.018631</td>\n",
              "      <td>0.672709</td>\n",
              "      <td>0.139629</td>\n",
              "      <td>-0.282394</td>\n",
              "      <td>0.079221</td>\n",
              "      <td>-0.117074</td>\n",
              "      <td>0.065108</td>\n",
              "      <td>-0.092798</td>\n",
              "      <td>-0.019711</td>\n",
              "      <td>0.210835</td>\n",
              "      <td>0.026681</td>\n",
              "      <td>-0.017456</td>\n",
              "      <td>0.030024</td>\n",
              "      <td>0.226097</td>\n",
              "      <td>-0.007317</td>\n",
              "      <td>0.043815</td>\n",
              "      <td>-0.085053</td>\n",
              "      <td>-0.018442</td>\n",
              "      <td>0.042551</td>\n",
              "      <td>-0.039490</td>\n",
              "      <td>-0.118699</td>\n",
              "      <td>-0.033307</td>\n",
              "      <td>0.011971</td>\n",
              "      <td>0.130149</td>\n",
              "      <td>0.023568</td>\n",
              "      <td>0.000598</td>\n",
              "      <td>0.002314</td>\n",
              "      <td>91.113847</td>\n",
              "      <td>0.001876</td>\n",
              "    </tr>\n",
              "    <tr>\n",
              "      <th>std</th>\n",
              "      <td>20935.874366</td>\n",
              "      <td>1.815360</td>\n",
              "      <td>1.612924</td>\n",
              "      <td>1.267514</td>\n",
              "      <td>1.321903</td>\n",
              "      <td>1.306687</td>\n",
              "      <td>1.283716</td>\n",
              "      <td>1.166104</td>\n",
              "      <td>1.230387</td>\n",
              "      <td>1.088043</td>\n",
              "      <td>1.049987</td>\n",
              "      <td>1.048182</td>\n",
              "      <td>1.020288</td>\n",
              "      <td>0.998237</td>\n",
              "      <td>0.916731</td>\n",
              "      <td>0.925427</td>\n",
              "      <td>0.877954</td>\n",
              "      <td>0.883405</td>\n",
              "      <td>0.832589</td>\n",
              "      <td>0.808304</td>\n",
              "      <td>0.721050</td>\n",
              "      <td>0.721606</td>\n",
              "      <td>0.635249</td>\n",
              "      <td>0.591371</td>\n",
              "      <td>0.595799</td>\n",
              "      <td>0.437282</td>\n",
              "      <td>0.491940</td>\n",
              "      <td>0.388942</td>\n",
              "      <td>0.306960</td>\n",
              "      <td>247.063579</td>\n",
              "      <td>0.043276</td>\n",
              "    </tr>\n",
              "    <tr>\n",
              "      <th>min</th>\n",
              "      <td>0.000000</td>\n",
              "      <td>-56.407510</td>\n",
              "      <td>-72.715728</td>\n",
              "      <td>-33.680984</td>\n",
              "      <td>-5.519697</td>\n",
              "      <td>-42.147898</td>\n",
              "      <td>-26.160506</td>\n",
              "      <td>-31.764946</td>\n",
              "      <td>-73.216718</td>\n",
              "      <td>-9.283925</td>\n",
              "      <td>-18.271168</td>\n",
              "      <td>-4.049895</td>\n",
              "      <td>-17.769143</td>\n",
              "      <td>-5.791881</td>\n",
              "      <td>-19.214325</td>\n",
              "      <td>-4.152532</td>\n",
              "      <td>-13.563273</td>\n",
              "      <td>-25.162799</td>\n",
              "      <td>-9.498746</td>\n",
              "      <td>-7.213527</td>\n",
              "      <td>-21.024817</td>\n",
              "      <td>-34.830382</td>\n",
              "      <td>-10.933144</td>\n",
              "      <td>-44.807735</td>\n",
              "      <td>-2.836627</td>\n",
              "      <td>-10.295397</td>\n",
              "      <td>-2.534330</td>\n",
              "      <td>-22.565679</td>\n",
              "      <td>-11.710896</td>\n",
              "      <td>0.000000</td>\n",
              "      <td>0.000000</td>\n",
              "    </tr>\n",
              "    <tr>\n",
              "      <th>25%</th>\n",
              "      <td>38001.000000</td>\n",
              "      <td>-1.020857</td>\n",
              "      <td>-0.563417</td>\n",
              "      <td>0.169911</td>\n",
              "      <td>-0.713458</td>\n",
              "      <td>-0.903456</td>\n",
              "      <td>-0.661857</td>\n",
              "      <td>-0.603665</td>\n",
              "      <td>-0.130976</td>\n",
              "      <td>-0.714885</td>\n",
              "      <td>-0.491976</td>\n",
              "      <td>-0.547047</td>\n",
              "      <td>-0.375521</td>\n",
              "      <td>-0.672049</td>\n",
              "      <td>-0.343552</td>\n",
              "      <td>-0.310538</td>\n",
              "      <td>-0.475458</td>\n",
              "      <td>-0.410107</td>\n",
              "      <td>-0.550085</td>\n",
              "      <td>-0.506351</td>\n",
              "      <td>-0.169408</td>\n",
              "      <td>-0.226122</td>\n",
              "      <td>-0.548084</td>\n",
              "      <td>-0.171745</td>\n",
              "      <td>-0.325037</td>\n",
              "      <td>-0.136357</td>\n",
              "      <td>-0.326105</td>\n",
              "      <td>-0.060363</td>\n",
              "      <td>-0.004166</td>\n",
              "      <td>6.000000</td>\n",
              "      <td>0.000000</td>\n",
              "    </tr>\n",
              "    <tr>\n",
              "      <th>50%</th>\n",
              "      <td>53833.000000</td>\n",
              "      <td>-0.270868</td>\n",
              "      <td>0.105003</td>\n",
              "      <td>0.750128</td>\n",
              "      <td>0.167426</td>\n",
              "      <td>-0.314577</td>\n",
              "      <td>-0.176481</td>\n",
              "      <td>-0.064121</td>\n",
              "      <td>0.080542</td>\n",
              "      <td>-0.155239</td>\n",
              "      <td>-0.098314</td>\n",
              "      <td>0.125509</td>\n",
              "      <td>0.165729</td>\n",
              "      <td>-0.019329</td>\n",
              "      <td>0.060606</td>\n",
              "      <td>0.336925</td>\n",
              "      <td>0.071620</td>\n",
              "      <td>-0.021930</td>\n",
              "      <td>-0.084598</td>\n",
              "      <td>-0.018713</td>\n",
              "      <td>-0.026507</td>\n",
              "      <td>-0.059815</td>\n",
              "      <td>-0.095822</td>\n",
              "      <td>-0.044999</td>\n",
              "      <td>0.068728</td>\n",
              "      <td>0.166478</td>\n",
              "      <td>-0.064879</td>\n",
              "      <td>0.011792</td>\n",
              "      <td>0.023610</td>\n",
              "      <td>23.900000</td>\n",
              "      <td>0.000000</td>\n",
              "    </tr>\n",
              "    <tr>\n",
              "      <th>75%</th>\n",
              "      <td>69573.000000</td>\n",
              "      <td>1.157957</td>\n",
              "      <td>0.777163</td>\n",
              "      <td>1.362846</td>\n",
              "      <td>0.992618</td>\n",
              "      <td>0.237702</td>\n",
              "      <td>0.465523</td>\n",
              "      <td>0.409937</td>\n",
              "      <td>0.375410</td>\n",
              "      <td>0.481411</td>\n",
              "      <td>0.422900</td>\n",
              "      <td>1.032423</td>\n",
              "      <td>0.651319</td>\n",
              "      <td>0.642332</td>\n",
              "      <td>0.454459</td>\n",
              "      <td>0.893565</td>\n",
              "      <td>0.532741</td>\n",
              "      <td>0.430167</td>\n",
              "      <td>0.386750</td>\n",
              "      <td>0.476920</td>\n",
              "      <td>0.164840</td>\n",
              "      <td>0.113589</td>\n",
              "      <td>0.300817</td>\n",
              "      <td>0.083280</td>\n",
              "      <td>0.408711</td>\n",
              "      <td>0.418682</td>\n",
              "      <td>0.286656</td>\n",
              "      <td>0.087069</td>\n",
              "      <td>0.077145</td>\n",
              "      <td>80.910000</td>\n",
              "      <td>0.000000</td>\n",
              "    </tr>\n",
              "    <tr>\n",
              "      <th>max</th>\n",
              "      <td>83879.000000</td>\n",
              "      <td>1.960497</td>\n",
              "      <td>18.902453</td>\n",
              "      <td>9.382558</td>\n",
              "      <td>16.715537</td>\n",
              "      <td>34.801666</td>\n",
              "      <td>22.529298</td>\n",
              "      <td>36.677268</td>\n",
              "      <td>20.007208</td>\n",
              "      <td>15.594995</td>\n",
              "      <td>23.745136</td>\n",
              "      <td>12.018913</td>\n",
              "      <td>7.848392</td>\n",
              "      <td>4.465413</td>\n",
              "      <td>10.526766</td>\n",
              "      <td>5.784514</td>\n",
              "      <td>6.098529</td>\n",
              "      <td>9.253526</td>\n",
              "      <td>5.041069</td>\n",
              "      <td>5.228342</td>\n",
              "      <td>39.420904</td>\n",
              "      <td>27.202839</td>\n",
              "      <td>10.503090</td>\n",
              "      <td>19.002942</td>\n",
              "      <td>4.022866</td>\n",
              "      <td>5.541598</td>\n",
              "      <td>3.517346</td>\n",
              "      <td>12.152401</td>\n",
              "      <td>33.847808</td>\n",
              "      <td>19656.530000</td>\n",
              "      <td>1.000000</td>\n",
              "    </tr>\n",
              "  </tbody>\n",
              "</table>\n",
              "</div>"
            ],
            "text/plain": [
              "                Time             V1  ...         Amount          Class\n",
              "count  140703.000000  140703.000000  ...  140702.000000  140702.000000\n",
              "mean    52017.063240      -0.249590  ...      91.113847       0.001876\n",
              "std     20935.874366       1.815360  ...     247.063579       0.043276\n",
              "min         0.000000     -56.407510  ...       0.000000       0.000000\n",
              "25%     38001.000000      -1.020857  ...       6.000000       0.000000\n",
              "50%     53833.000000      -0.270868  ...      23.900000       0.000000\n",
              "75%     69573.000000       1.157957  ...      80.910000       0.000000\n",
              "max     83879.000000       1.960497  ...   19656.530000       1.000000\n",
              "\n",
              "[8 rows x 31 columns]"
            ]
          },
          "metadata": {
            "tags": []
          },
          "execution_count": 2
        }
      ]
    },
    {
      "cell_type": "code",
      "metadata": {
        "colab": {
          "base_uri": "https://localhost:8080/",
          "height": 282
        },
        "id": "WtaH7KYBDSLs",
        "outputId": "81be4c39-8d7c-4fd7-a078-9d1043bbe459"
      },
      "source": [
        "plt.bar([\"Good\",\"Fraud\"],df['Class'].value_counts())"
      ],
      "execution_count": 3,
      "outputs": [
        {
          "output_type": "execute_result",
          "data": {
            "text/plain": [
              "<BarContainer object of 2 artists>"
            ]
          },
          "metadata": {
            "tags": []
          },
          "execution_count": 3
        },
        {
          "output_type": "display_data",
          "data": {
            "image/png": "[encoded data removed]",
            "text/plain": [
              "<Figure size 432x288 with 1 Axes>"
            ]
          },
          "metadata": {
            "tags": [],
            "needs_background": "light"
          }
        }
      ]
    },
    {
      "cell_type": "code",
      "metadata": {
        "colab": {
          "base_uri": "https://localhost:8080/"
        },
        "id": "oubAGjKMDWyW",
        "outputId": "211da30a-5848-4a57-869a-6ced0130fb7d"
      },
      "source": [
        "df.duplicated().sum()"
      ],
      "execution_count": 4,
      "outputs": [
        {
          "output_type": "execute_result",
          "data": {
            "text/plain": [
              "529"
            ]
          },
          "metadata": {
            "tags": []
          },
          "execution_count": 4
        }
      ]
    },
    {
      "cell_type": "code",
      "metadata": {
        "id": "VBui7VLlDig9"
      },
      "source": [
        "df=df.drop_duplicates()\n",
        "df_good=df[df['Class']==0]\n",
        "df_fraud=df[df['Class']==1]\n",
        "\n",
        "random_state_seed=42\n",
        "fraud_len=len(df_fraud)\n",
        "#This set contains 473 fraud cases and 100000 good cases\n",
        "set_1=shuffle(pd.concat([df_fraud.sample(frac=1, random_state=random_state_seed), df_good.sample(frac=1, random_state=random_state_seed)[:100000]], axis=0))\n",
        "#This set contains 473 fraud cases and 20000 good cases\n",
        "set_2=shuffle(pd.concat([df_fraud.sample(frac=1, random_state=random_state_seed), df_good.sample(frac=1, random_state=random_state_seed)[:20000]]))\n",
        "#This set contains 473 fraud cases and 10000 good cases\n",
        "set_3=shuffle(pd.concat([df_fraud.sample(frac=1, random_state=random_state_seed), df_good.sample(frac=1, random_state=random_state_seed)[:10000]]))"
      ],
      "execution_count": 5,
      "outputs": []
    },
    {
      "cell_type": "code",
      "metadata": {
        "colab": {
          "base_uri": "https://localhost:8080/"
        },
        "id": "O07x8Ce5EArl",
        "outputId": "621b996d-c300-4ea2-9019-1e7976d55c93"
      },
      "source": [
        "set_1.shape,set_2.shape,set_3.shape"
      ],
      "execution_count": 6,
      "outputs": [
        {
          "output_type": "execute_result",
          "data": {
            "text/plain": [
              "((100259, 31), (20259, 31), (10259, 31))"
            ]
          },
          "metadata": {
            "tags": []
          },
          "execution_count": 6
        }
      ]
    },
    {
      "cell_type": "code",
      "metadata": {
        "colab": {
          "base_uri": "https://localhost:8080/",
          "height": 265
        },
        "id": "qX9ejzFI1rXB",
        "outputId": "dd708584-e3ad-4c1d-a50e-9d667756f529"
      },
      "source": [
        "fig, axes = plt.subplots(1,3, figsize = (12,4))\n",
        "axes[0].bar([\"Good\",\"Fraud\"],set_1['Class'].value_counts())\n",
        "axes[1].bar([\"Good\",\"Fraud\"],set_2['Class'].value_counts())\n",
        "axes[2].bar([\"Good\",\"Fraud\"],set_3['Class'].value_counts())\n",
        "plt.show()"
      ],
      "execution_count": 7,
      "outputs": [
        {
          "output_type": "display_data",
          "data": {
            "image/png": "[encoded data removed]",
            "text/plain": [
              "<Figure size 864x288 with 3 Axes>"
            ]
          },
          "metadata": {
            "tags": [],
            "needs_background": "light"
          }
        }
      ]
    },
    {
      "cell_type": "code",
      "metadata": {
        "colab": {
          "base_uri": "https://localhost:8080/"
        },
        "id": "WOGmFSSH10QF",
        "outputId": "b722aef9-02a1-4ba7-b048-ea4a3fe7d4a5"
      },
      "source": [
        "for dataset in (set_1,set_2,set_3):\n",
        "    minmax=MinMaxScaler((-1,1))\n",
        "    for column in dataset.columns:\n",
        "        if column!='Class':\n",
        "            dataset[column]=minmax.fit_transform(dataset[[column]])\n",
        "\n",
        "def create_df(set_):\n",
        "    train_df=set_[0:round(0.8*len(set_))]\n",
        "    test_df=set_[round(0.8*len(set_)):]\n",
        "    X_train=train_df.drop(columns=['Class'])\n",
        "    y_train=train_df['Class']\n",
        "    X_test=test_df.drop(columns=['Class'])\n",
        "    y_test=test_df['Class']\n",
        "    return (X_train,y_train,X_test,y_test)\n",
        "\n",
        "for dataset in (set_1,set_2,set_3):\n",
        "    X_train,y_train,X_test,y_test=create_df(dataset)\n",
        "    logreg = LogisticRegression(solver='liblinear',random_state=random_state_seed, penalty='l2', class_weight='balanced', max_iter=1000).fit(X_train, y_train)\n",
        "    y_pred=logreg.predict(X_test)\n",
        "    print(\"ROC SCORE\",roc_auc_score(y_test,y_pred))\n",
        "    print(\"ACCURACY \",accuracy_score(y_test,y_pred))"
      ],
      "execution_count": 8,
      "outputs": [
        {
          "output_type": "stream",
          "text": [
            "ROC SCORE 0.9319269330651113\n",
            "ACCURACY  0.9812487532415719\n",
            "ROC SCORE 0.9410044977511244\n",
            "ACCURACY  0.9809970384995064\n",
            "ROC SCORE 0.9374425274275049\n",
            "ACCURACY  0.9814814814814815\n"
          ],
          "name": "stdout"
        }
      ]
    },
    {
      "cell_type": "code",
      "metadata": {
        "id": "4DAb9IDl2IZq"
      },
      "source": [
        "df_fraud=df_fraud.append([df_fraud]*100,ignore_index=True )\n",
        "\n",
        "set_4=shuffle(pd.concat([df_fraud.sample(frac=0.6, random_state=random_state_seed), df_good.sample(frac=0.25, random_state=random_state_seed)], axis=0))\n",
        "set_5=shuffle(pd.concat([df_fraud.sample(frac=0.1, random_state=random_state_seed), df_good.sample(frac=0.06, random_state=random_state_seed)], axis=0))\n",
        "set_6=shuffle(pd.concat([df_fraud.sample(frac=0.06, random_state=random_state_seed), df_good.sample(frac=0.024, random_state=random_state_seed)], axis=0))"
      ],
      "execution_count": 9,
      "outputs": []
    },
    {
      "cell_type": "code",
      "metadata": {
        "colab": {
          "base_uri": "https://localhost:8080/"
        },
        "id": "Ka2CkCGa2gbB",
        "outputId": "037d61f1-df27-45b1-ccb0-2b471e9fb5b6"
      },
      "source": [
        "set_4.shape,set_5.shape,set_6.shape"
      ],
      "execution_count": 10,
      "outputs": [
        {
          "output_type": "execute_result",
          "data": {
            "text/plain": [
              "((50673, 31), (11011, 31), (4928, 31))"
            ]
          },
          "metadata": {
            "tags": []
          },
          "execution_count": 10
        }
      ]
    },
    {
      "cell_type": "code",
      "metadata": {
        "colab": {
          "base_uri": "https://localhost:8080/",
          "height": 285
        },
        "id": "WsyX4yaQ2hpp",
        "outputId": "5a508b1c-10c1-4929-e74e-11e18c43d803"
      },
      "source": [
        "fig, axes = plt.subplots(1,3, figsize = (12,4))\n",
        "axes[0].bar([\"Good\",\"Fraud\"],set_4['Class'].value_counts())\n",
        "axes[1].bar([\"Good\",\"Fraud\"],set_5['Class'].value_counts())\n",
        "axes[2].bar([\"Good\",\"Fraud\"],set_6['Class'].value_counts())\n",
        "plt.plot()"
      ],
      "execution_count": 11,
      "outputs": [
        {
          "output_type": "execute_result",
          "data": {
            "text/plain": [
              "[]"
            ]
          },
          "metadata": {
            "tags": []
          },
          "execution_count": 11
        },
        {
          "output_type": "display_data",
          "data": {
            "image/png": "[encoded data removed]",
            "text/plain": [
              "<Figure size 864x288 with 3 Axes>"
            ]
          },
          "metadata": {
            "tags": [],
            "needs_background": "light"
          }
        }
      ]
    },
    {
      "cell_type": "code",
      "metadata": {
        "colab": {
          "base_uri": "https://localhost:8080/"
        },
        "id": "uyvROQBK2pij",
        "outputId": "c727e063-e2d8-4386-f113-2102845a1ed7"
      },
      "source": [
        "for dataset in (set_4,set_5,set_6):\n",
        "    X_train,y_train,X_test,y_test=create_df(dataset)\n",
        "    logreg = LogisticRegression(solver='liblinear',random_state=random_state_seed, penalty='l2', class_weight='balanced', max_iter=1000).fit(X_train, y_train)\n",
        "    y_pred=logreg.predict(X_test)\n",
        "    print(\"ROC SCORE\",roc_auc_score(y_test,y_pred))\n",
        "    print(\"ACCURACY \",accuracy_score(y_test,y_pred))"
      ],
      "execution_count": 13,
      "outputs": [
        {
          "output_type": "stream",
          "text": [
            "ROC SCORE 0.9424417041815237\n",
            "ACCURACY  0.9530340404538727\n",
            "ROC SCORE 0.9451612010209676\n",
            "ACCURACY  0.9573115349682108\n",
            "ROC SCORE 0.9524766176751288\n",
            "ACCURACY  0.9563894523326572\n"
          ],
          "name": "stdout"
        }
      ]
    },
    {
      "cell_type": "markdown",
      "metadata": {
        "id": "91MQzLg51NeH"
      },
      "source": [
        "#Q2. Implement the logistic regression model on the Smarket.csv dataset. Use all the attribute as variables.  And as output I need all the learned coefficients, and the scatter plot, and the classification graph generated  by  the logistic regression. "
      ]
    },
    {
      "cell_type": "code",
      "metadata": {
        "id": "J8LbABtQ1TPJ",
        "colab": {
          "base_uri": "https://localhost:8080/",
          "height": 206
        },
        "outputId": "5ef04033-81fb-4c97-cc06-88c049d66c88"
      },
      "source": [
        "import pandas as pd\n",
        "import numpy as np\n",
        "import matplotlib.pyplot as plt\n",
        "from sklearn.preprocessing import MinMaxScaler,LabelBinarizer\n",
        "from sklearn.model_selection import train_test_split\n",
        "from sklearn.linear_model import LogisticRegression\n",
        "from sklearn.metrics import roc_auc_score,accuracy_score\n",
        "from sklearn.utils import shuffle\n",
        "import seaborn as sns\n",
        "\n",
        "df=pd.read_csv(\"Smarket.csv\")\n",
        "df.head()"
      ],
      "execution_count": 15,
      "outputs": [
        {
          "output_type": "execute_result",
          "data": {
            "text/html": [
              "<div>\n",
              "<style scoped>\n",
              "    .dataframe tbody tr th:only-of-type {\n",
              "        vertical-align: middle;\n",
              "    }\n",
              "\n",
              "    .dataframe tbody tr th {\n",
              "        vertical-align: top;\n",
              "    }\n",
              "\n",
              "    .dataframe thead th {\n",
              "        text-align: right;\n",
              "    }\n",
              "</style>\n",
              "<table border=\"1\" class=\"dataframe\">\n",
              "  <thead>\n",
              "    <tr style=\"text-align: right;\">\n",
              "      <th></th>\n",
              "      <th>Year</th>\n",
              "      <th>Lag1</th>\n",
              "      <th>Lag2</th>\n",
              "      <th>Lag3</th>\n",
              "      <th>Lag4</th>\n",
              "      <th>Lag5</th>\n",
              "      <th>Volume</th>\n",
              "      <th>Today</th>\n",
              "      <th>Direction</th>\n",
              "    </tr>\n",
              "  </thead>\n",
              "  <tbody>\n",
              "    <tr>\n",
              "      <th>0</th>\n",
              "      <td>2001</td>\n",
              "      <td>0.381</td>\n",
              "      <td>-0.192</td>\n",
              "      <td>-2.624</td>\n",
              "      <td>-1.055</td>\n",
              "      <td>5.010</td>\n",
              "      <td>1.1913</td>\n",
              "      <td>0.959</td>\n",
              "      <td>Up</td>\n",
              "    </tr>\n",
              "    <tr>\n",
              "      <th>1</th>\n",
              "      <td>2001</td>\n",
              "      <td>0.959</td>\n",
              "      <td>0.381</td>\n",
              "      <td>-0.192</td>\n",
              "      <td>-2.624</td>\n",
              "      <td>-1.055</td>\n",
              "      <td>1.2965</td>\n",
              "      <td>1.032</td>\n",
              "      <td>Up</td>\n",
              "    </tr>\n",
              "    <tr>\n",
              "      <th>2</th>\n",
              "      <td>2001</td>\n",
              "      <td>1.032</td>\n",
              "      <td>0.959</td>\n",
              "      <td>0.381</td>\n",
              "      <td>-0.192</td>\n",
              "      <td>-2.624</td>\n",
              "      <td>1.4112</td>\n",
              "      <td>-0.623</td>\n",
              "      <td>Down</td>\n",
              "    </tr>\n",
              "    <tr>\n",
              "      <th>3</th>\n",
              "      <td>2001</td>\n",
              "      <td>-0.623</td>\n",
              "      <td>1.032</td>\n",
              "      <td>0.959</td>\n",
              "      <td>0.381</td>\n",
              "      <td>-0.192</td>\n",
              "      <td>1.2760</td>\n",
              "      <td>0.614</td>\n",
              "      <td>Up</td>\n",
              "    </tr>\n",
              "    <tr>\n",
              "      <th>4</th>\n",
              "      <td>2001</td>\n",
              "      <td>0.614</td>\n",
              "      <td>-0.623</td>\n",
              "      <td>1.032</td>\n",
              "      <td>0.959</td>\n",
              "      <td>0.381</td>\n",
              "      <td>1.2057</td>\n",
              "      <td>0.213</td>\n",
              "      <td>Up</td>\n",
              "    </tr>\n",
              "  </tbody>\n",
              "</table>\n",
              "</div>"
            ],
            "text/plain": [
              "   Year   Lag1   Lag2   Lag3   Lag4   Lag5  Volume  Today Direction\n",
              "0  2001  0.381 -0.192 -2.624 -1.055  5.010  1.1913  0.959        Up\n",
              "1  2001  0.959  0.381 -0.192 -2.624 -1.055  1.2965  1.032        Up\n",
              "2  2001  1.032  0.959  0.381 -0.192 -2.624  1.4112 -0.623      Down\n",
              "3  2001 -0.623  1.032  0.959  0.381 -0.192  1.2760  0.614        Up\n",
              "4  2001  0.614 -0.623  1.032  0.959  0.381  1.2057  0.213        Up"
            ]
          },
          "metadata": {
            "tags": []
          },
          "execution_count": 15
        }
      ]
    },
    {
      "cell_type": "code",
      "metadata": {
        "colab": {
          "base_uri": "https://localhost:8080/",
          "height": 300
        },
        "id": "X6W2ZULz4KmY",
        "outputId": "bf40914d-3d63-4331-95f7-e42c55a5a9bc"
      },
      "source": [
        "df.describe()"
      ],
      "execution_count": 16,
      "outputs": [
        {
          "output_type": "execute_result",
          "data": {
            "text/html": [
              "<div>\n",
              "<style scoped>\n",
              "    .dataframe tbody tr th:only-of-type {\n",
              "        vertical-align: middle;\n",
              "    }\n",
              "\n",
              "    .dataframe tbody tr th {\n",
              "        vertical-align: top;\n",
              "    }\n",
              "\n",
              "    .dataframe thead th {\n",
              "        text-align: right;\n",
              "    }\n",
              "</style>\n",
              "<table border=\"1\" class=\"dataframe\">\n",
              "  <thead>\n",
              "    <tr style=\"text-align: right;\">\n",
              "      <th></th>\n",
              "      <th>Year</th>\n",
              "      <th>Lag1</th>\n",
              "      <th>Lag2</th>\n",
              "      <th>Lag3</th>\n",
              "      <th>Lag4</th>\n",
              "      <th>Lag5</th>\n",
              "      <th>Volume</th>\n",
              "      <th>Today</th>\n",
              "    </tr>\n",
              "  </thead>\n",
              "  <tbody>\n",
              "    <tr>\n",
              "      <th>count</th>\n",
              "      <td>1250.000000</td>\n",
              "      <td>1250.000000</td>\n",
              "      <td>1250.000000</td>\n",
              "      <td>1250.000000</td>\n",
              "      <td>1250.000000</td>\n",
              "      <td>1250.00000</td>\n",
              "      <td>1250.000000</td>\n",
              "      <td>1250.000000</td>\n",
              "    </tr>\n",
              "    <tr>\n",
              "      <th>mean</th>\n",
              "      <td>2003.016000</td>\n",
              "      <td>0.003834</td>\n",
              "      <td>0.003919</td>\n",
              "      <td>0.001716</td>\n",
              "      <td>0.001636</td>\n",
              "      <td>0.00561</td>\n",
              "      <td>1.478305</td>\n",
              "      <td>0.003138</td>\n",
              "    </tr>\n",
              "    <tr>\n",
              "      <th>std</th>\n",
              "      <td>1.409018</td>\n",
              "      <td>1.136299</td>\n",
              "      <td>1.136280</td>\n",
              "      <td>1.138703</td>\n",
              "      <td>1.138774</td>\n",
              "      <td>1.14755</td>\n",
              "      <td>0.360357</td>\n",
              "      <td>1.136334</td>\n",
              "    </tr>\n",
              "    <tr>\n",
              "      <th>min</th>\n",
              "      <td>2001.000000</td>\n",
              "      <td>-4.922000</td>\n",
              "      <td>-4.922000</td>\n",
              "      <td>-4.922000</td>\n",
              "      <td>-4.922000</td>\n",
              "      <td>-4.92200</td>\n",
              "      <td>0.356070</td>\n",
              "      <td>-4.922000</td>\n",
              "    </tr>\n",
              "    <tr>\n",
              "      <th>25%</th>\n",
              "      <td>2002.000000</td>\n",
              "      <td>-0.639500</td>\n",
              "      <td>-0.639500</td>\n",
              "      <td>-0.640000</td>\n",
              "      <td>-0.640000</td>\n",
              "      <td>-0.64000</td>\n",
              "      <td>1.257400</td>\n",
              "      <td>-0.639500</td>\n",
              "    </tr>\n",
              "    <tr>\n",
              "      <th>50%</th>\n",
              "      <td>2003.000000</td>\n",
              "      <td>0.039000</td>\n",
              "      <td>0.039000</td>\n",
              "      <td>0.038500</td>\n",
              "      <td>0.038500</td>\n",
              "      <td>0.03850</td>\n",
              "      <td>1.422950</td>\n",
              "      <td>0.038500</td>\n",
              "    </tr>\n",
              "    <tr>\n",
              "      <th>75%</th>\n",
              "      <td>2004.000000</td>\n",
              "      <td>0.596750</td>\n",
              "      <td>0.596750</td>\n",
              "      <td>0.596750</td>\n",
              "      <td>0.596750</td>\n",
              "      <td>0.59700</td>\n",
              "      <td>1.641675</td>\n",
              "      <td>0.596750</td>\n",
              "    </tr>\n",
              "    <tr>\n",
              "      <th>max</th>\n",
              "      <td>2005.000000</td>\n",
              "      <td>5.733000</td>\n",
              "      <td>5.733000</td>\n",
              "      <td>5.733000</td>\n",
              "      <td>5.733000</td>\n",
              "      <td>5.73300</td>\n",
              "      <td>3.152470</td>\n",
              "      <td>5.733000</td>\n",
              "    </tr>\n",
              "  </tbody>\n",
              "</table>\n",
              "</div>"
            ],
            "text/plain": [
              "              Year         Lag1  ...       Volume        Today\n",
              "count  1250.000000  1250.000000  ...  1250.000000  1250.000000\n",
              "mean   2003.016000     0.003834  ...     1.478305     0.003138\n",
              "std       1.409018     1.136299  ...     0.360357     1.136334\n",
              "min    2001.000000    -4.922000  ...     0.356070    -4.922000\n",
              "25%    2002.000000    -0.639500  ...     1.257400    -0.639500\n",
              "50%    2003.000000     0.039000  ...     1.422950     0.038500\n",
              "75%    2004.000000     0.596750  ...     1.641675     0.596750\n",
              "max    2005.000000     5.733000  ...     3.152470     5.733000\n",
              "\n",
              "[8 rows x 8 columns]"
            ]
          },
          "metadata": {
            "tags": []
          },
          "execution_count": 16
        }
      ]
    },
    {
      "cell_type": "code",
      "metadata": {
        "colab": {
          "base_uri": "https://localhost:8080/"
        },
        "id": "tgdlnAZk4OLR",
        "outputId": "f0551523-5afa-49fe-dbe4-daa207b0ebaf"
      },
      "source": [
        "df.duplicated().sum()"
      ],
      "execution_count": 17,
      "outputs": [
        {
          "output_type": "execute_result",
          "data": {
            "text/plain": [
              "0"
            ]
          },
          "metadata": {
            "tags": []
          },
          "execution_count": 17
        }
      ]
    },
    {
      "cell_type": "code",
      "metadata": {
        "colab": {
          "base_uri": "https://localhost:8080/",
          "height": 265
        },
        "id": "kRUjbiI_4RV6",
        "outputId": "70b45c7f-1942-43d7-d90d-0dd9e5a1ff97"
      },
      "source": [
        "plt.bar([\"Up\",\"Down\"],df['Direction'].value_counts())\n",
        "plt.show()"
      ],
      "execution_count": 18,
      "outputs": [
        {
          "output_type": "display_data",
          "data": {
            "image/png": "[encoded data removed]",
            "text/plain": [
              "<Figure size 432x288 with 1 Axes>"
            ]
          },
          "metadata": {
            "tags": [],
            "needs_background": "light"
          }
        }
      ]
    },
    {
      "cell_type": "code",
      "metadata": {
        "id": "F0g1D3no4WH6"
      },
      "source": [
        "X=df.drop(columns=['Year','Direction'])\n",
        "y=df['Direction']\n",
        "\n",
        "mm=MinMaxScaler()\n",
        "\n",
        "X=mm.fit_transform(X)\n",
        "\n",
        "lb=LabelBinarizer()\n",
        "y=pd.DataFrame(lb.fit_transform(y))"
      ],
      "execution_count": 19,
      "outputs": []
    },
    {
      "cell_type": "code",
      "metadata": {
        "colab": {
          "base_uri": "https://localhost:8080/",
          "height": 424
        },
        "id": "nWpY_chi4eln",
        "outputId": "82cbe990-e693-4d71-a992-73a2b7e4102a"
      },
      "source": [
        "y"
      ],
      "execution_count": 20,
      "outputs": [
        {
          "output_type": "execute_result",
          "data": {
            "text/html": [
              "<div>\n",
              "<style scoped>\n",
              "    .dataframe tbody tr th:only-of-type {\n",
              "        vertical-align: middle;\n",
              "    }\n",
              "\n",
              "    .dataframe tbody tr th {\n",
              "        vertical-align: top;\n",
              "    }\n",
              "\n",
              "    .dataframe thead th {\n",
              "        text-align: right;\n",
              "    }\n",
              "</style>\n",
              "<table border=\"1\" class=\"dataframe\">\n",
              "  <thead>\n",
              "    <tr style=\"text-align: right;\">\n",
              "      <th></th>\n",
              "      <th>0</th>\n",
              "    </tr>\n",
              "  </thead>\n",
              "  <tbody>\n",
              "    <tr>\n",
              "      <th>0</th>\n",
              "      <td>1</td>\n",
              "    </tr>\n",
              "    <tr>\n",
              "      <th>1</th>\n",
              "      <td>1</td>\n",
              "    </tr>\n",
              "    <tr>\n",
              "      <th>2</th>\n",
              "      <td>0</td>\n",
              "    </tr>\n",
              "    <tr>\n",
              "      <th>3</th>\n",
              "      <td>1</td>\n",
              "    </tr>\n",
              "    <tr>\n",
              "      <th>4</th>\n",
              "      <td>1</td>\n",
              "    </tr>\n",
              "    <tr>\n",
              "      <th>...</th>\n",
              "      <td>...</td>\n",
              "    </tr>\n",
              "    <tr>\n",
              "      <th>1245</th>\n",
              "      <td>1</td>\n",
              "    </tr>\n",
              "    <tr>\n",
              "      <th>1246</th>\n",
              "      <td>0</td>\n",
              "    </tr>\n",
              "    <tr>\n",
              "      <th>1247</th>\n",
              "      <td>1</td>\n",
              "    </tr>\n",
              "    <tr>\n",
              "      <th>1248</th>\n",
              "      <td>0</td>\n",
              "    </tr>\n",
              "    <tr>\n",
              "      <th>1249</th>\n",
              "      <td>0</td>\n",
              "    </tr>\n",
              "  </tbody>\n",
              "</table>\n",
              "<p>1250 rows × 1 columns</p>\n",
              "</div>"
            ],
            "text/plain": [
              "      0\n",
              "0     1\n",
              "1     1\n",
              "2     0\n",
              "3     1\n",
              "4     1\n",
              "...  ..\n",
              "1245  1\n",
              "1246  0\n",
              "1247  1\n",
              "1248  0\n",
              "1249  0\n",
              "\n",
              "[1250 rows x 1 columns]"
            ]
          },
          "metadata": {
            "tags": []
          },
          "execution_count": 20
        }
      ]
    },
    {
      "cell_type": "code",
      "metadata": {
        "colab": {
          "base_uri": "https://localhost:8080/"
        },
        "id": "3Q844Qha4gyn",
        "outputId": "879ce45e-2d79-4c7d-bfa8-cc9fd5bc5131"
      },
      "source": [
        "X_train, X_test, y_train, y_test = train_test_split(X, y, test_size=0.33, random_state=42)\n",
        "\n",
        "clf=LogisticRegression(random_state=42)\n",
        "clf.fit(X_train,y_train)\n"
      ],
      "execution_count": 23,
      "outputs": [
        {
          "output_type": "stream",
          "text": [
            "/usr/local/lib/python3.7/dist-packages/sklearn/utils/validation.py:760: DataConversionWarning: A column-vector y was passed when a 1d array was expected. Please change the shape of y to (n_samples, ), for example using ravel().\n",
            "  y = column_or_1d(y, warn=True)\n"
          ],
          "name": "stderr"
        },
        {
          "output_type": "execute_result",
          "data": {
            "text/plain": [
              "LogisticRegression(C=1.0, class_weight=None, dual=False, fit_intercept=True,\n",
              "                   intercept_scaling=1, l1_ratio=None, max_iter=100,\n",
              "                   multi_class='auto', n_jobs=None, penalty='l2',\n",
              "                   random_state=42, solver='lbfgs', tol=0.0001, verbose=0,\n",
              "                   warm_start=False)"
            ]
          },
          "metadata": {
            "tags": []
          },
          "execution_count": 23
        }
      ]
    },
    {
      "cell_type": "code",
      "metadata": {
        "id": "FaCACbJp40xo"
      },
      "source": [
        "y_pred=clf.predict(X_test)"
      ],
      "execution_count": 24,
      "outputs": []
    },
    {
      "cell_type": "code",
      "metadata": {
        "colab": {
          "base_uri": "https://localhost:8080/"
        },
        "id": "nBnwZvlz49Ks",
        "outputId": "d9d81a22-472b-47c7-fce9-47f08f92346e"
      },
      "source": [
        "clf.coef_, clf.intercept_"
      ],
      "execution_count": 25,
      "outputs": [
        {
          "output_type": "execute_result",
          "data": {
            "text/plain": [
              "(array([[-0.5817213 , -0.63443731,  0.37935018,  0.06776332,  0.30170363,\n",
              "          0.1604908 , 12.42067721]]), array([-5.43234864]))"
            ]
          },
          "metadata": {
            "tags": []
          },
          "execution_count": 25
        }
      ]
    },
    {
      "cell_type": "code",
      "metadata": {
        "colab": {
          "base_uri": "https://localhost:8080/"
        },
        "id": "1beQfB7q5Aa-",
        "outputId": "3b0a12c6-c2e1-4091-8361-b2096d3dc070"
      },
      "source": [
        "features=df.columns.to_list()\n",
        "features.remove('Year')\n",
        "features.remove('Direction')\n",
        "logreg_coef=clf.coef_[0]\n",
        "\n",
        "x_test=pd.DataFrame(X_test)\n",
        "\n",
        "x_test[0].head()"
      ],
      "execution_count": 27,
      "outputs": [
        {
          "output_type": "execute_result",
          "data": {
            "text/plain": [
              "0    0.401877\n",
              "1    0.546410\n",
              "2    0.769029\n",
              "3    0.476771\n",
              "4    0.672830\n",
              "Name: 0, dtype: float64"
            ]
          },
          "metadata": {
            "tags": []
          },
          "execution_count": 27
        }
      ]
    },
    {
      "cell_type": "code",
      "metadata": {
        "colab": {
          "base_uri": "https://localhost:8080/",
          "height": 265
        },
        "id": "ta84BEy65Gcz",
        "outputId": "97b003d1-611f-44df-fd7c-fdfc9828852a"
      },
      "source": [
        "res=[]\n",
        "for f, b in zip(features, logreg_coef):\n",
        "    res.append((f,b))\n",
        "\n",
        "plt.bar(features,logreg_coef)\n",
        "plt.show()"
      ],
      "execution_count": 28,
      "outputs": [
        {
          "output_type": "display_data",
          "data": {
            "image/png": "[encoded data removed]",
            "text/plain": [
              "<Figure size 432x288 with 1 Axes>"
            ]
          },
          "metadata": {
            "tags": [],
            "needs_background": "light"
          }
        }
      ]
    },
    {
      "cell_type": "code",
      "metadata": {
        "colab": {
          "base_uri": "https://localhost:8080/"
        },
        "id": "Q_STiZ2d5QpP",
        "outputId": "b6ac45b6-0ae5-4239-f465-fb5edb891a0c"
      },
      "source": [
        "print(\"Learnt Coefficients\")\n",
        "for i in res:\n",
        "    print(i)"
      ],
      "execution_count": 29,
      "outputs": [
        {
          "output_type": "stream",
          "text": [
            "Learnt Coefficients\n",
            "('Lag1', -0.5817213046376338)\n",
            "('Lag2', -0.6344373061880886)\n",
            "('Lag3', 0.37935018349055016)\n",
            "('Lag4', 0.0677633182030959)\n",
            "('Lag5', 0.3017036344733025)\n",
            "('Volume', 0.16049080278747863)\n",
            "('Today', 12.420677211399001)\n"
          ],
          "name": "stdout"
        }
      ]
    },
    {
      "cell_type": "code",
      "metadata": {
        "colab": {
          "base_uri": "https://localhost:8080/",
          "height": 1000
        },
        "id": "ZzIFb6zh5T89",
        "outputId": "dfb73006-1ad3-44ce-a0a2-1f0e347b4cbf"
      },
      "source": [
        "for i in range(0,7):\n",
        "    sns.regplot(x=pd.DataFrame(X_test)[i],y=pd.DataFrame(clf.predict_proba(X_test)[:,0]))\n",
        "    plt.title(features[i])\n",
        "    plt.show()"
      ],
      "execution_count": 30,
      "outputs": [
        {
          "output_type": "display_data",
          "data": {
            "image/png": "[encoded data removed]",
            "text/plain": [
              "<Figure size 432x288 with 1 Axes>"
            ]
          },
          "metadata": {
            "tags": [],
            "needs_background": "light"
          }
        },
        {
          "output_type": "display_data",
          "data": {
            "image/png": "[encoded data removed]",
            "text/plain": [
              "<Figure size 432x288 with 1 Axes>"
            ]
          },
          "metadata": {
            "tags": [],
            "needs_background": "light"
          }
        },
        {
          "output_type": "display_data",
          "data": {
            "image/png": "[encoded data removed]",
            "text/plain": [
              "<Figure size 432x288 with 1 Axes>"
            ]
          },
          "metadata": {
            "tags": [],
            "needs_background": "light"
          }
        },
        {
          "output_type": "display_data",
          "data": {
            "image/png": "[encoded data removed]",
            "text/plain": [
              "<Figure size 432x288 with 1 Axes>"
            ]
          },
          "metadata": {
            "tags": [],
            "needs_background": "light"
          }
        },
        {
          "output_type": "display_data",
          "data": {
            "image/png": "[encoded data removed]",
            "text/plain": [
              "<Figure size 432x288 with 1 Axes>"
            ]
          },
          "metadata": {
            "tags": [],
            "needs_background": "light"
          }
        },
        {
          "output_type": "display_data",
          "data": {
            "image/png": "[encoded data removed]",
            "text/plain": [
              "<Figure size 432x288 with 1 Axes>"
            ]
          },
          "metadata": {
            "tags": [],
            "needs_background": "light"
          }
        },
        {
          "output_type": "display_data",
          "data": {
            "image/png": "[encoded data removed]",
            "text/plain": [
              "<Figure size 432x288 with 1 Axes>"
            ]
          },
          "metadata": {
            "tags": [],
            "needs_background": "light"
          }
        }
      ]
    }
  ]
}